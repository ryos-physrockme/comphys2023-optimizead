{
 "cells": [
  {
   "cell_type": "code",
   "execution_count": 1,
   "metadata": {},
   "outputs": [
    {
     "data": {
      "text/plain": [
       "2-element Vector{Float64}:\n",
       " 0.0\n",
       " 0.0"
      ]
     },
     "metadata": {},
     "output_type": "display_data"
    }
   ],
   "source": [
    "using Optim\n",
    "\n",
    "# 最小化したい関数 (xの型指定をしていない！)\n",
    "f(x) = (1.0 - x[1])^2 + 100.0 * (x[2] - x[1]^2)^2\n",
    "\n",
    "# 数値微分（差分法）で勾配を計算\n",
    "function g(x::Array{Float64})\n",
    "    G = similar(x)\n",
    "    h = 1e-8\n",
    "    for i in 1:length(x)\n",
    "        tmp = x[i]\n",
    "        x[i] = tmp + h\n",
    "        f1 = f(x)\n",
    "        x[i] = tmp - h\n",
    "        f2 = f(x)\n",
    "        G[i] = (f1 - f2) / (2h)\n",
    "        x[i] = tmp\n",
    "    end\n",
    "    return G\n",
    "end\n",
    "\n",
    "# 初期値\n",
    "initial_x = [0.0, 0.0]"
   ]
  },
  {
   "cell_type": "code",
   "execution_count": 2,
   "metadata": {},
   "outputs": [
    {
     "data": {
      "text/plain": [
       "2-element Vector{Float64}:\n",
       " -1.9999999933961732\n",
       "  0.0"
      ]
     },
     "metadata": {},
     "output_type": "display_data"
    }
   ],
   "source": [
    "# Finite difference method\n",
    "g(initial_x)"
   ]
  },
  {
   "cell_type": "code",
   "execution_count": 3,
   "metadata": {},
   "outputs": [
    {
     "data": {
      "text/plain": [
       "([-2.0, 0.0],)"
      ]
     },
     "metadata": {},
     "output_type": "display_data"
    }
   ],
   "source": [
    "# Reverse-mode AD/back propagation using Zygote\n",
    "using Zygote\n",
    "\n",
    "gradient(f, initial_x)"
   ]
  },
  {
   "cell_type": "code",
   "execution_count": 4,
   "metadata": {},
   "outputs": [
    {
     "data": {
      "text/plain": [
       "2-element Vector{Float64}:\n",
       " -2.0\n",
       "  0.0"
      ]
     },
     "metadata": {},
     "output_type": "display_data"
    }
   ],
   "source": [
    "g_zygote = x -> gradient(f, x)[1]\n",
    "g_zygote(initial_x)"
   ]
  },
  {
   "cell_type": "code",
   "execution_count": 5,
   "metadata": {},
   "outputs": [
    {
     "name": "stdout",
     "output_type": "stream",
     "text": [
      "Iter     Function value   Gradient norm \n",
      "     0     1.000000e+00     2.000000e+00\n"
     ]
    },
    {
     "name": "stdout",
     "output_type": "stream",
     "text": [
      " * time: 0.02499985694885254\n"
     ]
    },
    {
     "name": "stdout",
     "output_type": "stream",
     "text": [
      "     1     8.415971e-01     1.578600e+00\n",
      " * time: 1.3229999542236328\n"
     ]
    },
    {
     "name": "stdout",
     "output_type": "stream",
     "text": [
      "     2     7.767204e-01     1.874904e+00\n",
      " * time: 1.3239998817443848\n"
     ]
    },
    {
     "name": "stdout",
     "output_type": "stream",
     "text": [
      "     3     7.080698e-01     1.689587e+00\n",
      " * time: 1.3239998817443848\n"
     ]
    },
    {
     "name": "stdout",
     "output_type": "stream",
     "text": [
      "     4     6.355493e-01     2.040685e+00\n",
      " * time: 1.3239998817443848\n"
     ]
    },
    {
     "name": "stdout",
     "output_type": "stream",
     "text": [
      "     5     5.408975e-01     1.874498e+00\n",
      " * time: 1.3239998817443848\n"
     ]
    },
    {
     "name": "stdout",
     "output_type": "stream",
     "text": [
      "     6     3.946973e-01     2.388404e+00\n",
      " * time: 1.3250000476837158\n"
     ]
    },
    {
     "name": "stdout",
     "output_type": "stream",
     "text": [
      "     7     2.122648e-01     3.088179e+00\n",
      " * time: 1.3250000476837158\n"
     ]
    },
    {
     "name": "stdout",
     "output_type": "stream",
     "text": [
      "     8     1.724238e-01     2.845193e+00\n",
      " * time: 1.3250000476837158\n"
     ]
    },
    {
     "name": "stdout",
     "output_type": "stream",
     "text": [
      "     9     1.308117e-01     1.573630e+00\n",
      " * time: 1.3250000476837158\n"
     ]
    },
    {
     "name": "stdout",
     "output_type": "stream",
     "text": [
      "    10     1.159601e-01     9.001900e-01\n",
      " * time: 1.3259999752044678\n"
     ]
    },
    {
     "name": "stdout",
     "output_type": "stream",
     "text": [
      "    11     1.031448e-01     3.164160e-01\n",
      " * time: 1.3259999752044678\n"
     ]
    },
    {
     "name": "stdout",
     "output_type": "stream",
     "text": [
      "    12     8.840496e-02     1.056332e+00\n",
      " * time: 1.3259999752044678\n"
     ]
    },
    {
     "name": "stdout",
     "output_type": "stream",
     "text": [
      "    13     7.705036e-02     2.502819e+00\n",
      " * time: 1.3280000686645508\n"
     ]
    },
    {
     "name": "stdout",
     "output_type": "stream",
     "text": [
      "    14     6.746256e-02     3.751973e+00\n",
      " * time: 1.3289999961853027\n"
     ]
    },
    {
     "name": "stdout",
     "output_type": "stream",
     "text": [
      "    15     2.888655e-02     3.825459e+00\n",
      " * time: 1.3299999237060547\n"
     ]
    },
    {
     "name": "stdout",
     "output_type": "stream",
     "text": [
      "    16     1.541276e-02     2.422629e-01\n",
      " * time: 1.3309998512268066\n"
     ]
    },
    {
     "name": "stdout",
     "output_type": "stream",
     "text": [
      "    17     6.727998e-03     5.703931e-01\n",
      " * time: 1.3309998512268066\n"
     ]
    },
    {
     "name": "stdout",
     "output_type": "stream",
     "text": [
      "    18     3.603446e-03     1.264546e+00\n",
      " * time: 1.3320000171661377\n"
     ]
    },
    {
     "name": "stdout",
     "output_type": "stream",
     "text": [
      "    19     1.320727e-04     4.150293e-01\n",
      " * time: 1.3320000171661377\n"
     ]
    },
    {
     "name": "stdout",
     "output_type": "stream",
     "text": [
      "    20     3.412485e-05     2.018405e-02\n",
      " * time: 1.3320000171661377\n"
     ]
    },
    {
     "name": "stdout",
     "output_type": "stream",
     "text": [
      "    21     3.454513e-08     7.409729e-03\n",
      " * time: 1.3320000171661377\n"
     ]
    },
    {
     "name": "stdout",
     "output_type": "stream",
     "text": [
      "    22     1.177789e-10     1.617521e-05\n",
      " * time: 1.3329999446868896\n"
     ]
    },
    {
     "name": "stdout",
     "output_type": "stream",
     "text": [
      "    23     4.414066e-19     2.659272e-08\n",
      " * time: 1.3329999446868896\n"
     ]
    },
    {
     "name": "stdout",
     "output_type": "stream",
     "text": [
      "    24     5.191703e-27     1.441069e-13\n",
      " * time: 1.3329999446868896\n"
     ]
    },
    {
     "data": {
      "text/plain": [
       " * Status: success\n",
       "\n",
       " * Candidate solution\n",
       "    Final objective value:     5.191703e-27\n",
       "\n",
       " * Found with\n",
       "    Algorithm:     L-BFGS\n",
       "\n",
       " * Convergence measures\n",
       "    |x - x'|               = 4.58e-11 ≰ 0.0e+00\n",
       "    |x - x'|/|x'|          = 4.58e-11 ≰ 0.0e+00\n",
       "    |f(x) - f(x')|         = 4.41e-19 ≰ 0.0e+00\n",
       "    |f(x) - f(x')|/|f(x')| = 8.50e+07 ≰ 0.0e+00\n",
       "    |g(x)|                 = 1.44e-13 ≤ 1.0e-08\n",
       "\n",
       " * Work counters\n",
       "    Seconds run:   1  (vs limit Inf)\n",
       "    Iterations:    24\n",
       "    f(x) calls:    67\n",
       "    ∇f(x) calls:   67\n"
      ]
     },
     "metadata": {},
     "output_type": "display_data"
    }
   ],
   "source": [
    "# 最適化問題を解く\n",
    "result = optimize(f, g_zygote, initial_x, LBFGS(), Optim.Options(show_trace=true), inplace=false)"
   ]
  },
  {
   "cell_type": "code",
   "execution_count": 6,
   "metadata": {},
   "outputs": [
    {
     "name": "stdout",
     "output_type": "stream",
     "text": [
      "Iter     Function value   Gradient norm \n",
      "     0     1.000000e+00     2.000000e+00\n",
      " * time: 0.0009999275207519531\n"
     ]
    },
    {
     "name": "stdout",
     "output_type": "stream",
     "text": [
      "     1     8.415971e-01     1.578600e+00\n",
      " * time: 0.002000093460083008\n"
     ]
    },
    {
     "name": "stdout",
     "output_type": "stream",
     "text": [
      "     2     7.767204e-01     1.874904e+00\n",
      " * time: 0.002000093460083008\n"
     ]
    },
    {
     "name": "stdout",
     "output_type": "stream",
     "text": [
      "     3     7.080698e-01     1.689587e+00\n",
      " * time: 0.002000093460083008\n"
     ]
    },
    {
     "name": "stdout",
     "output_type": "stream",
     "text": [
      "     4     6.355493e-01     2.040685e+00\n",
      " * time: 0.002000093460083008\n"
     ]
    },
    {
     "name": "stdout",
     "output_type": "stream",
     "text": [
      "     5     5.408975e-01     1.874498e+00\n",
      " * time: 0.003000020980834961\n"
     ]
    },
    {
     "name": "stdout",
     "output_type": "stream",
     "text": [
      "     6     3.946973e-01     2.388404e+00\n",
      " * time: 0.003000020980834961\n"
     ]
    },
    {
     "name": "stdout",
     "output_type": "stream",
     "text": [
      "     7     2.122648e-01     3.088179e+00\n",
      " * time: 0.003000020980834961\n"
     ]
    },
    {
     "name": "stdout",
     "output_type": "stream",
     "text": [
      "     8     1.724238e-01     2.845193e+00\n",
      " * time: 0.003000020980834961\n"
     ]
    },
    {
     "name": "stdout",
     "output_type": "stream",
     "text": [
      "     9     1.308117e-01     1.573630e+00\n",
      " * time: 0.003999948501586914\n"
     ]
    },
    {
     "name": "stdout",
     "output_type": "stream",
     "text": [
      "    10     1.159601e-01     9.001900e-01\n",
      " * time: 0.003999948501586914\n"
     ]
    },
    {
     "name": "stdout",
     "output_type": "stream",
     "text": [
      "    11     1.031448e-01     3.164160e-01\n",
      " * time: 0.003999948501586914\n"
     ]
    },
    {
     "name": "stdout",
     "output_type": "stream",
     "text": [
      "    12     8.840496e-02     1.056332e+00\n",
      " * time: 0.003999948501586914\n"
     ]
    },
    {
     "name": "stdout",
     "output_type": "stream",
     "text": [
      "    13     7.705036e-02     2.502819e+00\n",
      " * time: 0.004999876022338867\n"
     ]
    },
    {
     "name": "stdout",
     "output_type": "stream",
     "text": [
      "    14     6.746256e-02     3.751973e+00\n",
      " * time: 0.004999876022338867\n"
     ]
    },
    {
     "name": "stdout",
     "output_type": "stream",
     "text": [
      "    15     2.888655e-02     3.825459e+00\n",
      " * time: 0.004999876022338867\n"
     ]
    },
    {
     "name": "stdout",
     "output_type": "stream",
     "text": [
      "    16     1.541276e-02     2.422629e-01\n",
      " * time: 0.004999876022338867\n"
     ]
    },
    {
     "name": "stdout",
     "output_type": "stream",
     "text": [
      "    17     6.727998e-03     5.703931e-01\n",
      " * time: 0.006000041961669922\n"
     ]
    },
    {
     "name": "stdout",
     "output_type": "stream",
     "text": [
      "    18     3.603446e-03     1.264546e+00\n",
      " * time: 0.006000041961669922\n"
     ]
    },
    {
     "name": "stdout",
     "output_type": "stream",
     "text": [
      "    19     1.320727e-04     4.150293e-01\n",
      " * time: 0.006000041961669922\n"
     ]
    },
    {
     "name": "stdout",
     "output_type": "stream",
     "text": [
      "    20     3.412485e-05     2.018405e-02\n",
      " * time: 0.006000041961669922\n"
     ]
    },
    {
     "name": "stdout",
     "output_type": "stream",
     "text": [
      "    21     3.454513e-08     7.409729e-03\n",
      " * time: 0.006999969482421875\n"
     ]
    },
    {
     "name": "stdout",
     "output_type": "stream",
     "text": [
      "    22     1.177789e-10     1.617521e-05\n",
      " * time: 0.006999969482421875\n"
     ]
    },
    {
     "name": "stdout",
     "output_type": "stream",
     "text": [
      "    23     4.414066e-19     2.659272e-08\n",
      " * time: 0.006999969482421875\n"
     ]
    },
    {
     "name": "stdout",
     "output_type": "stream",
     "text": [
      "    24     5.191703e-27     1.441069e-13\n",
      " * time: 0.006999969482421875\n"
     ]
    },
    {
     "data": {
      "text/plain": [
       " * Status: success\n",
       "\n",
       " * Candidate solution\n",
       "    Final objective value:     5.191703e-27\n",
       "\n",
       " * Found with\n",
       "    Algorithm:     L-BFGS\n",
       "\n",
       " * Convergence measures\n",
       "    |x - x'|               = 4.58e-11 ≰ 0.0e+00\n",
       "    |x - x'|/|x'|          = 4.58e-11 ≰ 0.0e+00\n",
       "    |f(x) - f(x')|         = 4.41e-19 ≰ 0.0e+00\n",
       "    |f(x) - f(x')|/|f(x')| = 8.50e+07 ≰ 0.0e+00\n",
       "    |g(x)|                 = 1.44e-13 ≤ 1.0e-08\n",
       "\n",
       " * Work counters\n",
       "    Seconds run:   0  (vs limit Inf)\n",
       "    Iterations:    24\n",
       "    f(x) calls:    67\n",
       "    ∇f(x) calls:   67\n"
      ]
     },
     "metadata": {},
     "output_type": "display_data"
    }
   ],
   "source": [
    "# もしくは、Optim内蔵のForwardDiffを使う\n",
    "result = optimize(f, initial_x, LBFGS(), Optim.Options(show_trace=true), autodiff = :forward)"
   ]
  }
 ],
 "metadata": {
  "kernelspec": {
   "display_name": "Julia 1.9.0",
   "language": "julia",
   "name": "julia-1.9"
  },
  "language_info": {
   "file_extension": ".jl",
   "mimetype": "application/julia",
   "name": "julia",
   "version": "1.9.0"
  },
  "orig_nbformat": 4
 },
 "nbformat": 4,
 "nbformat_minor": 2
}
