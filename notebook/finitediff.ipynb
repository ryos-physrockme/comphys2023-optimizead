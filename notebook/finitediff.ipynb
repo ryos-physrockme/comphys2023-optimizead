{
 "cells": [
  {
   "cell_type": "code",
   "execution_count": 1,
   "metadata": {},
   "outputs": [
    {
     "data": {
      "text/plain": [
       "f (generic function with 1 method)"
      ]
     },
     "metadata": {},
     "output_type": "display_data"
    }
   ],
   "source": [
    "using Optim\n",
    "\n",
    "# 最小化したい関数\n",
    "f(x::Array{Float64}) = (1.0 - x[1])^2 + 100.0 * (x[2] - x[1]^2)^2"
   ]
  },
  {
   "cell_type": "code",
   "execution_count": 5,
   "metadata": {},
   "outputs": [
    {
     "name": "stdout",
     "output_type": "stream",
     "text": [
      "Iter     Function value   Gradient norm \n"
     ]
    },
    {
     "name": "stdout",
     "output_type": "stream",
     "text": [
      "     0     1.000000e+00     2.000000e+00\n",
      " * time: 0.04999995231628418\n"
     ]
    },
    {
     "name": "stdout",
     "output_type": "stream",
     "text": [
      "     1     8.415975e-01     1.578602e+00\n",
      " * time: 2.128000020980835\n"
     ]
    },
    {
     "name": "stdout",
     "output_type": "stream",
     "text": [
      "     2     7.767210e-01     1.874892e+00\n",
      " * time: 2.128999948501587\n"
     ]
    },
    {
     "name": "stdout",
     "output_type": "stream",
     "text": [
      "     3     7.080708e-01     1.689571e+00\n",
      " * time: 2.128999948501587\n"
     ]
    },
    {
     "name": "stdout",
     "output_type": "stream",
     "text": [
      "     4     6.355533e-01     2.040679e+00\n",
      " * time: 2.130000114440918\n"
     ]
    },
    {
     "name": "stdout",
     "output_type": "stream",
     "text": [
      "     5     5.409054e-01     1.874516e+00\n",
      " * time: 2.130000114440918\n"
     ]
    },
    {
     "name": "stdout",
     "output_type": "stream",
     "text": [
      "     6     3.947018e-01     2.388369e+00\n",
      " * time: 2.130000114440918\n"
     ]
    },
    {
     "name": "stdout",
     "output_type": "stream",
     "text": [
      "     7     2.122709e-01     3.088232e+00\n",
      " * time: 2.13100004196167\n"
     ]
    },
    {
     "name": "stdout",
     "output_type": "stream",
     "text": [
      "     8     1.724273e-01     2.845465e+00\n",
      " * time: 2.13100004196167\n"
     ]
    },
    {
     "name": "stdout",
     "output_type": "stream",
     "text": [
      "     9     1.308169e-01     1.574008e+00\n",
      " * time: 2.13100004196167\n"
     ]
    },
    {
     "name": "stdout",
     "output_type": "stream",
     "text": [
      "    10     1.159685e-01     9.008039e-01\n",
      " * time: 2.131999969482422\n"
     ]
    },
    {
     "name": "stdout",
     "output_type": "stream",
     "text": [
      "    11     1.031553e-01     3.158020e-01\n",
      " * time: 2.131999969482422\n"
     ]
    },
    {
     "name": "stdout",
     "output_type": "stream",
     "text": [
      "    12     8.841573e-02     1.055478e+00\n",
      " * time: 2.131999969482422\n"
     ]
    },
    {
     "name": "stdout",
     "output_type": "stream",
     "text": [
      "    13     7.705772e-02     2.501232e+00\n",
      " * time: 2.131999969482422\n"
     ]
    },
    {
     "name": "stdout",
     "output_type": "stream",
     "text": [
      "    14     6.748107e-02     3.751254e+00\n",
      " * time: 2.132999897003174\n"
     ]
    },
    {
     "name": "stdout",
     "output_type": "stream",
     "text": [
      "    15     2.893493e-02     3.829639e+00\n",
      " * time: 2.132999897003174\n"
     ]
    },
    {
     "name": "stdout",
     "output_type": "stream",
     "text": [
      "    16     1.542747e-02     2.428094e-01\n",
      " * time: 2.132999897003174\n"
     ]
    },
    {
     "name": "stdout",
     "output_type": "stream",
     "text": [
      "    17     6.736581e-03     5.705810e-01\n",
      " * time: 2.134000062942505\n"
     ]
    },
    {
     "name": "stdout",
     "output_type": "stream",
     "text": [
      "    18     3.609921e-03     1.264909e+00\n",
      " * time: 2.134000062942505\n"
     ]
    },
    {
     "name": "stdout",
     "output_type": "stream",
     "text": [
      "    19     1.347708e-04     4.183060e-01\n",
      " * time: 2.134000062942505\n"
     ]
    },
    {
     "name": "stdout",
     "output_type": "stream",
     "text": [
      "    20     3.504446e-05     1.989689e-02\n",
      " * time: 2.134999990463257\n"
     ]
    },
    {
     "name": "stdout",
     "output_type": "stream",
     "text": [
      "    21     3.766506e-08     7.716390e-03\n",
      " * time: 2.134999990463257\n"
     ]
    },
    {
     "name": "stdout",
     "output_type": "stream",
     "text": [
      "    22     1.331787e-10     2.809503e-05\n",
      " * time: 2.134999990463257\n"
     ]
    },
    {
     "name": "stdout",
     "output_type": "stream",
     "text": [
      "    23     3.301503e-18     7.263141e-08\n",
      " * time: 2.134999990463257\n"
     ]
    },
    {
     "name": "stdout",
     "output_type": "stream",
     "text": [
      "    24     4.399405e-26     5.304646e-13\n",
      " * time: 2.135999917984009\n"
     ]
    },
    {
     "name": "stdout",
     "output_type": "stream",
     "text": [
      "The minimum is at: "
     ]
    },
    {
     "name": "stdout",
     "output_type": "stream",
     "text": [
      "[0.9999999999997903, 0.9999999999995809]\n"
     ]
    }
   ],
   "source": [
    "# 初期値\n",
    "initial_x = [0.0, 0.0]\n",
    "\n",
    "# 数値微分（差分法）で勾配を計算\n",
    "function g!(G::Array{Float64}, x::Array{Float64})\n",
    "    h = 1e-8\n",
    "    for i in 1:length(x)\n",
    "        tmp = x[i]\n",
    "        x[i] = tmp + h\n",
    "        f1 = f(x)\n",
    "        x[i] = tmp - h\n",
    "        f2 = f(x)\n",
    "        G[i] = (f1 - f2) / (2h)\n",
    "        x[i] = tmp\n",
    "    end\n",
    "end\n",
    "\n",
    "# 最適化問題を解く\n",
    "result = optimize(f, g!, initial_x, LBFGS(), Optim.Options(show_trace=true))\n",
    "println(\"The minimum is at: \", Optim.minimizer(result))"
   ]
  },
  {
   "cell_type": "code",
   "execution_count": 6,
   "metadata": {},
   "outputs": [
    {
     "name": "stdout",
     "output_type": "stream",
     "text": [
      "Iter     Function value   Gradient norm \n",
      "     0     1.000000e+00     2.000000e+00\n",
      " * time: 0.0009999275207519531\n"
     ]
    },
    {
     "name": "stdout",
     "output_type": "stream",
     "text": [
      "     1     8.415975e-01     1.578602e+00\n",
      " * time: 0.002000093460083008\n"
     ]
    },
    {
     "name": "stdout",
     "output_type": "stream",
     "text": [
      "     2     7.767210e-01     1.874892e+00\n",
      " * time: 0.003000020980834961\n"
     ]
    },
    {
     "name": "stdout",
     "output_type": "stream",
     "text": [
      "     3     7.080708e-01     1.689571e+00\n",
      " * time: 0.003000020980834961\n"
     ]
    },
    {
     "name": "stdout",
     "output_type": "stream",
     "text": [
      "     4     6.355533e-01     2.040679e+00\n",
      " * time: 0.003999948501586914\n"
     ]
    },
    {
     "name": "stdout",
     "output_type": "stream",
     "text": [
      "     5     5.409054e-01     1.874516e+00\n",
      " * time: 0.005000114440917969\n"
     ]
    },
    {
     "name": "stdout",
     "output_type": "stream",
     "text": [
      "     6     3.947018e-01     2.388369e+00\n",
      " * time: 0.005000114440917969\n"
     ]
    },
    {
     "name": "stdout",
     "output_type": "stream",
     "text": [
      "     7     2.122709e-01     3.088232e+00\n",
      " * time: 0.006000041961669922\n"
     ]
    },
    {
     "name": "stdout",
     "output_type": "stream",
     "text": [
      "     8     1.724273e-01     2.845465e+00\n",
      " * time: 0.006000041961669922\n"
     ]
    },
    {
     "name": "stdout",
     "output_type": "stream",
     "text": [
      "     9     1.308169e-01     1.574008e+00\n",
      " * time: 0.006000041961669922\n"
     ]
    },
    {
     "name": "stdout",
     "output_type": "stream",
     "text": [
      "    10     1.159685e-01     9.008039e-01\n",
      " * time: 0.006999969482421875\n"
     ]
    },
    {
     "name": "stdout",
     "output_type": "stream",
     "text": [
      "    11     1.031553e-01     3.158020e-01\n",
      " * time: 0.006999969482421875\n"
     ]
    },
    {
     "name": "stdout",
     "output_type": "stream",
     "text": [
      "    12     8.841573e-02     1.055478e+00\n",
      " * time: 0.006999969482421875\n"
     ]
    },
    {
     "name": "stdout",
     "output_type": "stream",
     "text": [
      "    13     7.705772e-02     2.501232e+00\n",
      " * time: 0.007999897003173828\n"
     ]
    },
    {
     "name": "stdout",
     "output_type": "stream",
     "text": [
      "    14     6.748107e-02     3.751254e+00\n",
      " * time: 0.007999897003173828\n"
     ]
    },
    {
     "name": "stdout",
     "output_type": "stream",
     "text": [
      "    15     2.893493e-02     3.829639e+00\n",
      " * time: 0.009000062942504883\n"
     ]
    },
    {
     "name": "stdout",
     "output_type": "stream",
     "text": [
      "    16     1.542747e-02     2.428094e-01\n",
      " * time: 0.010999917984008789\n"
     ]
    },
    {
     "name": "stdout",
     "output_type": "stream",
     "text": [
      "    17     6.736581e-03     5.705810e-01\n",
      " * time: 0.010999917984008789\n"
     ]
    },
    {
     "name": "stdout",
     "output_type": "stream",
     "text": [
      "    18     3.609921e-03     1.264909e+00\n",
      " * time: 0.012000083923339844\n"
     ]
    },
    {
     "name": "stdout",
     "output_type": "stream",
     "text": [
      "    19     1.347708e-04     4.183060e-01\n",
      " * time: 0.012000083923339844\n"
     ]
    },
    {
     "name": "stdout",
     "output_type": "stream",
     "text": [
      "    20     3.504446e-05     1.989689e-02\n"
     ]
    },
    {
     "name": "stdout",
     "output_type": "stream",
     "text": [
      " * time: 0.013000011444091797\n"
     ]
    },
    {
     "name": "stdout",
     "output_type": "stream",
     "text": [
      "    21     3.766506e-08     7.716390e-03\n",
      " * time: 0.013000011444091797\n"
     ]
    },
    {
     "name": "stdout",
     "output_type": "stream",
     "text": [
      "    22     1.331787e-10     2.809503e-05\n",
      " * time: 0.01399993896484375\n"
     ]
    },
    {
     "name": "stdout",
     "output_type": "stream",
     "text": [
      "    23     3.301503e-18     7.263141e-08\n",
      " * time: 0.01399993896484375\n"
     ]
    },
    {
     "name": "stdout",
     "output_type": "stream",
     "text": [
      "    24     4.399405e-26     5.304646e-13\n",
      " * time: 0.01399993896484375\n"
     ]
    },
    {
     "name": "stdout",
     "output_type": "stream",
     "text": [
      "The minimum is at: [0.9999999999997903, 0.9999999999995809]\n"
     ]
    }
   ],
   "source": [
    "# 数値微分（差分法）で勾配を計算\n",
    "function g(x::Array{Float64})\n",
    "    G = similar(x)\n",
    "    h = 1e-8\n",
    "    for i in 1:length(x)\n",
    "        tmp = x[i]\n",
    "        x[i] = tmp + h\n",
    "        f1 = f(x)\n",
    "        x[i] = tmp - h\n",
    "        f2 = f(x)\n",
    "        G[i] = (f1 - f2) / (2h)\n",
    "        x[i] = tmp\n",
    "    end\n",
    "    return G\n",
    "end\n",
    "\n",
    "# 最適化問題を解く\n",
    "result = optimize(f, g, initial_x, LBFGS(), Optim.Options(show_trace=true), inplace=false)\n",
    "println(\"The minimum is at: \", Optim.minimizer(result))"
   ]
  },
  {
   "cell_type": "code",
   "execution_count": 7,
   "metadata": {},
   "outputs": [
    {
     "name": "stdout",
     "output_type": "stream",
     "text": [
      "Iter     Function value   Gradient norm \n",
      "     0     1.000000e+00     2.000000e+00\n",
      " * time: 0.0009999275207519531\n"
     ]
    },
    {
     "name": "stdout",
     "output_type": "stream",
     "text": [
      "     1     8.415971e-01     1.578600e+00\n",
      " * time: 0.0009999275207519531\n"
     ]
    },
    {
     "name": "stdout",
     "output_type": "stream",
     "text": [
      "     2     7.767204e-01     1.874904e+00\n",
      " * time: 0.0009999275207519531\n"
     ]
    },
    {
     "name": "stdout",
     "output_type": "stream",
     "text": [
      "     3     7.080698e-01     1.689587e+00\n",
      " * time: 0.0009999275207519531\n"
     ]
    },
    {
     "name": "stdout",
     "output_type": "stream",
     "text": [
      "     4     6.355493e-01     2.040685e+00\n",
      " * time: 0.0009999275207519531\n"
     ]
    },
    {
     "name": "stdout",
     "output_type": "stream",
     "text": [
      "     5     5.408975e-01     1.874498e+00\n",
      " * time: 0.0019998550415039062\n"
     ]
    },
    {
     "name": "stdout",
     "output_type": "stream",
     "text": [
      "     6     3.946973e-01     2.388404e+00\n",
      " * time: 0.0019998550415039062\n"
     ]
    },
    {
     "name": "stdout",
     "output_type": "stream",
     "text": [
      "     7     2.122648e-01     3.088178e+00\n",
      " * time: 0.0019998550415039062\n"
     ]
    },
    {
     "name": "stdout",
     "output_type": "stream",
     "text": [
      "     8     1.724237e-01     2.845191e+00\n",
      " * time: 0.003000020980834961\n"
     ]
    },
    {
     "name": "stdout",
     "output_type": "stream",
     "text": [
      "     9     1.308117e-01     1.573629e+00\n",
      " * time: 0.003000020980834961\n"
     ]
    },
    {
     "name": "stdout",
     "output_type": "stream",
     "text": [
      "    10     1.159600e-01     9.001876e-01\n",
      " * time: 0.004999876022338867\n"
     ]
    },
    {
     "name": "stdout",
     "output_type": "stream",
     "text": [
      "    11     1.031448e-01     3.164182e-01\n",
      " * time: 0.004999876022338867\n"
     ]
    },
    {
     "name": "stdout",
     "output_type": "stream",
     "text": [
      "    12     8.840493e-02     1.056335e+00\n",
      " * time: 0.006000041961669922\n"
     ]
    },
    {
     "name": "stdout",
     "output_type": "stream",
     "text": [
      "    13     7.705034e-02     2.502824e+00\n",
      " * time: 0.006000041961669922\n"
     ]
    },
    {
     "name": "stdout",
     "output_type": "stream",
     "text": [
      "    14     6.746249e-02     3.751976e+00\n",
      " * time: 0.006000041961669922\n"
     ]
    },
    {
     "name": "stdout",
     "output_type": "stream",
     "text": [
      "    15     2.888638e-02     3.825445e+00\n",
      " * time: 0.006000041961669922\n"
     ]
    },
    {
     "name": "stdout",
     "output_type": "stream",
     "text": [
      "    16     1.541271e-02     2.422609e-01\n",
      " * time: 0.006999969482421875\n"
     ]
    },
    {
     "name": "stdout",
     "output_type": "stream",
     "text": [
      "    17     6.727968e-03     5.703923e-01\n",
      " * time: 0.006999969482421875\n"
     ]
    },
    {
     "name": "stdout",
     "output_type": "stream",
     "text": [
      "    18     3.603423e-03     1.264544e+00\n",
      " * time: 0.006999969482421875\n"
     ]
    },
    {
     "name": "stdout",
     "output_type": "stream",
     "text": [
      "    19     1.320631e-04     4.150174e-01\n",
      " * time: 0.006999969482421875\n"
     ]
    },
    {
     "name": "stdout",
     "output_type": "stream",
     "text": [
      "    20     3.412163e-05     2.018506e-02\n",
      " * time: 0.007999897003173828\n"
     ]
    },
    {
     "name": "stdout",
     "output_type": "stream",
     "text": [
      "    21     3.453443e-08     7.408633e-03\n",
      " * time: 0.007999897003173828\n"
     ]
    },
    {
     "name": "stdout",
     "output_type": "stream",
     "text": [
      "    22     1.178845e-10     1.613408e-05\n",
      " * time: 0.007999897003173828\n"
     ]
    },
    {
     "name": "stdout",
     "output_type": "stream",
     "text": [
      "    23     5.406882e-17     2.644001e-08\n",
      " * time: 0.007999897003173828\n"
     ]
    },
    {
     "name": "stdout",
     "output_type": "stream",
     "text": [
      "    24     5.378388e-17     9.880617e-14\n",
      " * time: 0.007999897003173828\n"
     ]
    },
    {
     "data": {
      "text/plain": [
       " * Status: success\n",
       "\n",
       " * Candidate solution\n",
       "    Final objective value:     5.378388e-17\n",
       "\n",
       " * Found with\n",
       "    Algorithm:     L-BFGS\n",
       "\n",
       " * Convergence measures\n",
       "    |x - x'|               = 4.54e-11 ≰ 0.0e+00\n",
       "    |x - x'|/|x'|          = 4.54e-11 ≰ 0.0e+00\n",
       "    |f(x) - f(x')|         = 2.85e-19 ≰ 0.0e+00\n",
       "    |f(x) - f(x')|/|f(x')| = 5.30e-03 ≰ 0.0e+00\n",
       "    |g(x)|                 = 9.88e-14 ≤ 1.0e-08\n",
       "\n",
       " * Work counters\n",
       "    Seconds run:   0  (vs limit Inf)\n",
       "    Iterations:    24\n",
       "    f(x) calls:    67\n",
       "    ∇f(x) calls:   67\n"
      ]
     },
     "metadata": {},
     "output_type": "display_data"
    }
   ],
   "source": [
    "result = optimize(f, initial_x, LBFGS(), Optim.Options(show_trace=true), autodiff = :finite)"
   ]
  }
 ],
 "metadata": {
  "kernelspec": {
   "display_name": "Julia 1.9.0",
   "language": "julia",
   "name": "julia-1.9"
  },
  "language_info": {
   "file_extension": ".jl",
   "mimetype": "application/julia",
   "name": "julia",
   "version": "1.9.0"
  },
  "orig_nbformat": 4
 },
 "nbformat": 4,
 "nbformat_minor": 2
}
